{
 "cells": [
  {
   "cell_type": "markdown",
   "metadata": {},
   "source": [
    "# TD(\\lambda) learning"
   ]
  },
  {
   "cell_type": "markdown",
   "metadata": {},
   "source": [
    "Replication of Sutton 1988"
   ]
  },
  {
   "cell_type": "code",
   "execution_count": 5,
   "metadata": {},
   "outputs": [],
   "source": [
    "import numpy as np"
   ]
  },
  {
   "cell_type": "code",
   "execution_count": 43,
   "metadata": {},
   "outputs": [],
   "source": [
    "def bounded_random_walk_episode_simulator(N_states=7,s0=3,N_sim=10):\n",
    "    training_set=[]\n",
    "    for _ in range(N_sim):\n",
    "        episode=[s0]\n",
    "        current_state=s0\n",
    " \n",
    "        while current_state not in [0,N_states-1]:\n",
    "            if np.random.uniform()<0.5:\n",
    "                current_state+=-1\n",
    " \n",
    "            else:\n",
    "                current_state+=1\n",
    " \n",
    "            episode.append(current_state)\n",
    " \n",
    "        training_set.append(episode)\n",
    "   \n",
    "    return training_set\n",
    " \n",
    " \n"
   ]
  },
  {
   "cell_type": "code",
   "execution_count": 63,
   "metadata": {},
   "outputs": [],
   "source": [
    "def TD_update(episode,l,alpha,N_states=7):\n",
    "    w=np.zeros(len(episode))\n",
    "    dw=np.zeros(len(episode))\n",
    "    print('episode is ',episode)\n",
    "    for t in range(len(episode)):\n",
    "        print('t is ',t)\n",
    "        x=np.zeros(N_states-2)\n",
    "        z=None\n",
    "        if episode[t] not in [0,N_states-1]:\n",
    "            x[episode[t]-1]=1\n",
    "        elif episode[t]==N_states-1:\n",
    "            z=1\n",
    "        else:\n",
    "            z=0\n",
    "        print('x is ',x)\n",
    "        print('z is ',z)\n",
    "            \n",
    "        \n",
    "        #dw[t-1]=alpha*()"
   ]
  },
  {
   "cell_type": "code",
   "execution_count": 64,
   "metadata": {},
   "outputs": [],
   "source": [
    "test_training_set=bounded_random_walk_episode_simulator()"
   ]
  },
  {
   "cell_type": "code",
   "execution_count": 65,
   "metadata": {},
   "outputs": [
    {
     "name": "stdout",
     "output_type": "stream",
     "text": [
      "episode is  [3, 2, 1, 0]\n",
      "t is  0\n",
      "x is  [0. 0. 1. 0. 0.]\n",
      "z is  None\n",
      "t is  1\n",
      "x is  [0. 1. 0. 0. 0.]\n",
      "z is  None\n",
      "t is  2\n",
      "x is  [1. 0. 0. 0. 0.]\n",
      "z is  None\n",
      "t is  3\n",
      "x is  [0. 0. 0. 0. 0.]\n",
      "z is  0\n"
     ]
    }
   ],
   "source": [
    "TD_update([3, 2, 1, 0],1,0.6)"
   ]
  },
  {
   "cell_type": "code",
   "execution_count": 66,
   "metadata": {},
   "outputs": [
    {
     "name": "stdout",
     "output_type": "stream",
     "text": [
      "episode is  [3, 4, 5, 6]\n",
      "t is  0\n",
      "x is  [0. 0. 1. 0. 0.]\n",
      "z is  None\n",
      "t is  1\n",
      "x is  [0. 0. 0. 1. 0.]\n",
      "z is  None\n",
      "t is  2\n",
      "x is  [0. 0. 0. 0. 1.]\n",
      "z is  None\n",
      "t is  3\n",
      "x is  [0. 0. 0. 0. 0.]\n",
      "z is  1\n"
     ]
    }
   ],
   "source": [
    "TD_update([3, 4, 5, 6],1,0.6)"
   ]
  },
  {
   "cell_type": "code",
   "execution_count": null,
   "metadata": {},
   "outputs": [],
   "source": []
  }
 ],
 "metadata": {
  "kernelspec": {
   "display_name": "Python 3",
   "language": "python",
   "name": "python3"
  },
  "language_info": {
   "codemirror_mode": {
    "name": "ipython",
    "version": 3
   },
   "file_extension": ".py",
   "mimetype": "text/x-python",
   "name": "python",
   "nbconvert_exporter": "python",
   "pygments_lexer": "ipython3",
   "version": "3.6.5"
  }
 },
 "nbformat": 4,
 "nbformat_minor": 2
}
